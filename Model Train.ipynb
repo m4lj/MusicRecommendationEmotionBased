{
 "cells": [
  {
   "cell_type": "markdown",
   "id": "eb311e38",
   "metadata": {
    "papermill": {
     "duration": 0.006932,
     "end_time": "2022-06-16T17:49:10.995354",
     "exception": false,
     "start_time": "2022-06-16T17:49:10.988422",
     "status": "completed"
    },
    "tags": []
   },
   "source": [
    "# Loading Libraries"
   ]
  },
  {
   "cell_type": "code",
   "execution_count": 5,
   "id": "d66a3edf",
   "metadata": {
    "_cell_guid": "b1076dfc-b9ad-4769-8c92-a6c4dae69d19",
    "_uuid": "8f2839f25d086af736a60e9eeb907d3b93b6e0e5",
    "execution": {
     "iopub.execute_input": "2022-06-16T17:49:11.009583Z",
     "iopub.status.busy": "2022-06-16T17:49:11.008854Z",
     "iopub.status.idle": "2022-06-16T17:49:17.536869Z",
     "shell.execute_reply": "2022-06-16T17:49:17.536063Z"
    },
    "papermill": {
     "duration": 6.537492,
     "end_time": "2022-06-16T17:49:17.539018",
     "exception": false,
     "start_time": "2022-06-16T17:49:11.001526",
     "status": "completed"
    },
    "tags": []
   },
   "outputs": [],
   "source": [
    "import numpy as np\n",
    "import pandas as pd\n",
    "import seaborn as sns\n",
    "sns.set_theme(style=\"whitegrid\")\n",
    "import matplotlib.pyplot as plt\n",
    "%matplotlib inline\n",
    "\n",
    "import datetime\n",
    "import os\n",
    "import cv2\n",
    "\n",
    "import tensorflow as tf\n",
    "from tensorflow import keras\n",
    "from tensorflow.keras.optimizers import Adam, RMSprop, SGD\n",
    "\n",
    "from keras import regularizers\n",
    "from keras.layers import Conv2D, Dense, BatchNormalization, Activation, Dropout, MaxPooling2D, Flatten\n",
    "from keras.callbacks import ModelCheckpoint, CSVLogger, TensorBoard, EarlyStopping, ReduceLROnPlateau\n",
    "from tensorflow.keras.preprocessing.image import ImageDataGenerator, load_img\n",
    "from tensorflow.keras.utils import plot_model\n",
    "\n",
    "from sklearn.metrics import classification_report, confusion_matrix\n",
    "\n",
    "main_accent_colour = \"#b366ff\"\n",
    "dim_colour=\"darkgrey\"\n",
    "main_palette = [\"#FBE5C0\", \"#DD9A30\", \"#F88379\", \"#FF6FC2\", \"purple\", \"#D086F6\", \"#B0D2C2\", \"#4C5D70\", \"#6FA2CE\", \"#382D24\", \"#3ACF3A\", \"#7D7D00\"]"
   ]
  },
  {
   "cell_type": "markdown",
   "id": "8cb678c6",
   "metadata": {
    "papermill": {
     "duration": 0.006194,
     "end_time": "2022-06-16T17:49:17.551450",
     "exception": false,
     "start_time": "2022-06-16T17:49:17.545256",
     "status": "completed"
    },
    "tags": []
   },
   "source": [
    "# Analyzing"
   ]
  },
  {
   "cell_type": "code",
   "execution_count": 6,
   "id": "301e15f3",
   "metadata": {
    "execution": {
     "iopub.execute_input": "2022-06-16T17:49:17.564765Z",
     "iopub.status.busy": "2022-06-16T17:49:17.564230Z",
     "iopub.status.idle": "2022-06-16T17:49:17.581136Z",
     "shell.execute_reply": "2022-06-16T17:49:17.580387Z"
    },
    "papermill": {
     "duration": 0.025636,
     "end_time": "2022-06-16T17:49:17.583120",
     "exception": false,
     "start_time": "2022-06-16T17:49:17.557484",
     "status": "completed"
    },
    "tags": []
   },
   "outputs": [],
   "source": [
    "train_dir = 'fer2013 cleaned/train/'\n",
    "test_dir = 'fer2013 cleaned/test/'\n",
    "\n",
    "row = 48\n",
    "col = 48\n",
    "classes = len(os.listdir('fer2013 cleaned/train/'))"
   ]
  },
  {
   "cell_type": "code",
   "execution_count": 7,
   "id": "a1d8645c",
   "metadata": {
    "execution": {
     "iopub.execute_input": "2022-06-16T17:49:17.596231Z",
     "iopub.status.busy": "2022-06-16T17:49:17.595630Z",
     "iopub.status.idle": "2022-06-16T17:49:21.349343Z",
     "shell.execute_reply": "2022-06-16T17:49:21.348352Z"
    },
    "papermill": {
     "duration": 3.762643,
     "end_time": "2022-06-16T17:49:21.351701",
     "exception": false,
     "start_time": "2022-06-16T17:49:17.589058",
     "status": "completed"
    },
    "tags": []
   },
   "outputs": [
    {
     "name": "stdout",
     "output_type": "stream",
     "text": [
      "Train Set :\n",
      "Anger folder contains\t\t 3315 image\n",
      "Disgust folder contains\t\t 436 image\n",
      "Fear folder contains\t\t 3346 image\n",
      "Happy folder contains\t\t 3334 image\n",
      "Neutral folder contains\t\t 3376 image\n",
      "Sad folder contains\t\t 3192 image\n",
      "Surprise folder contains\t\t 3321 image\n",
      "\n",
      "Test Set :\n",
      "Anger folder contains\t\t 828 images\n",
      "Disgust folder contains\t\t 111 images\n",
      "Fear folder contains\t\t 836 images\n",
      "Happy folder contains\t\t 833 images\n",
      "Neutral folder contains\t\t 806 images\n",
      "Sad folder contains\t\t 798 images\n",
      "Surprise folder contains\t\t 830 images\n"
     ]
    }
   ],
   "source": [
    "print(\"Train Set :\")\n",
    "\n",
    "train_count = []\n",
    "for folder in os.listdir(train_dir) :\n",
    "    print(folder, \"folder contains\\t\\t\", len(os.listdir(train_dir+folder)), \"image\")\n",
    "    train_count.append(len(os.listdir(train_dir+folder)))\n",
    "    \n",
    "print()\n",
    "\n",
    "test_count = []\n",
    "print(\"Test Set :\")\n",
    "for folder in os.listdir(test_dir) :\n",
    "    print(folder, \"folder contains\\t\\t\", len(os.listdir(test_dir+folder)), \"images\")\n",
    "    test_count.append(len(os.listdir(test_dir+folder)))"
   ]
  },
  {
   "cell_type": "markdown",
   "id": "11e7cdc5",
   "metadata": {
    "papermill": {
     "duration": 0.008211,
     "end_time": "2022-06-16T17:49:22.535337",
     "exception": false,
     "start_time": "2022-06-16T17:49:22.527126",
     "status": "completed"
    },
    "tags": []
   },
   "source": [
    "# Preprocessing"
   ]
  },
  {
   "cell_type": "code",
   "execution_count": 8,
   "id": "462232cd",
   "metadata": {
    "execution": {
     "iopub.execute_input": "2022-06-16T17:49:22.553920Z",
     "iopub.status.busy": "2022-06-16T17:49:22.553610Z",
     "iopub.status.idle": "2022-06-16T17:49:54.343821Z",
     "shell.execute_reply": "2022-06-16T17:49:54.342987Z"
    },
    "papermill": {
     "duration": 31.810169,
     "end_time": "2022-06-16T17:49:54.353814",
     "exception": false,
     "start_time": "2022-06-16T17:49:22.543645",
     "status": "completed"
    },
    "tags": []
   },
   "outputs": [
    {
     "name": "stdout",
     "output_type": "stream",
     "text": [
      "Found 20320 images belonging to 7 classes.\n",
      "Found 5042 images belonging to 7 classes.\n"
     ]
    }
   ],
   "source": [
    "train_datagen = ImageDataGenerator(rescale=1./255,\n",
    "                                   zoom_range=0.3,\n",
    "                                   horizontal_flip=True)\n",
    "\n",
    "training_set = train_datagen.flow_from_directory(train_dir,\n",
    "                                                batch_size=64,\n",
    "                                                target_size=(48,48),\n",
    "                                                shuffle=True,\n",
    "                                                color_mode='grayscale',\n",
    "                                                class_mode='categorical')\n",
    "\n",
    "test_datagen = ImageDataGenerator(rescale=1./255)\n",
    "test_set = test_datagen.flow_from_directory(test_dir,\n",
    "                                                batch_size=64,\n",
    "                                                target_size=(48,48),\n",
    "                                                shuffle=True,\n",
    "                                                color_mode='grayscale',\n",
    "                                                class_mode='categorical')"
   ]
  },
  {
   "cell_type": "code",
   "execution_count": 9,
   "id": "6b2dec51",
   "metadata": {
    "execution": {
     "iopub.execute_input": "2022-06-16T17:49:54.371028Z",
     "iopub.status.busy": "2022-06-16T17:49:54.370730Z",
     "iopub.status.idle": "2022-06-16T17:49:54.376268Z",
     "shell.execute_reply": "2022-06-16T17:49:54.375553Z"
    },
    "papermill": {
     "duration": 0.016144,
     "end_time": "2022-06-16T17:49:54.378020",
     "exception": false,
     "start_time": "2022-06-16T17:49:54.361876",
     "status": "completed"
    },
    "tags": []
   },
   "outputs": [
    {
     "data": {
      "text/plain": [
       "{'Anger': 0,\n",
       " 'Disgust': 1,\n",
       " 'Fear': 2,\n",
       " 'Happy': 3,\n",
       " 'Neutral': 4,\n",
       " 'Sad': 5,\n",
       " 'Surprise': 6}"
      ]
     },
     "execution_count": 9,
     "metadata": {},
     "output_type": "execute_result"
    }
   ],
   "source": [
    "training_set.class_indices"
   ]
  },
  {
   "cell_type": "markdown",
   "id": "12d98dc8",
   "metadata": {
    "papermill": {
     "duration": 0.007664,
     "end_time": "2022-06-16T17:49:54.393506",
     "exception": false,
     "start_time": "2022-06-16T17:49:54.385842",
     "status": "completed"
    },
    "tags": []
   },
   "source": [
    "# Model"
   ]
  },
  {
   "cell_type": "code",
   "execution_count": 10,
   "id": "d3b7a59b",
   "metadata": {
    "execution": {
     "iopub.execute_input": "2022-06-16T17:49:54.410581Z",
     "iopub.status.busy": "2022-06-16T17:49:54.410027Z",
     "iopub.status.idle": "2022-06-16T17:49:54.421220Z",
     "shell.execute_reply": "2022-06-16T17:49:54.420500Z"
    },
    "papermill": {
     "duration": 0.021493,
     "end_time": "2022-06-16T17:49:54.422818",
     "exception": false,
     "start_time": "2022-06-16T17:49:54.401325",
     "status": "completed"
    },
    "tags": []
   },
   "outputs": [],
   "source": [
    "def get_model(input_size, classes=7):\n",
    "    \n",
    "    model = tf.keras.models.Sequential()   \n",
    "\n",
    "    model.add(Conv2D(32, kernel_size=(3, 3), padding='same', activation='relu', input_shape =input_size))\n",
    "    model.add(Conv2D(64, kernel_size=(3, 3), activation='relu', padding='same'))\n",
    "    model.add(BatchNormalization())\n",
    "    model.add(MaxPooling2D(2, 2))\n",
    "    model.add(Dropout(0.25))\n",
    "\n",
    "    model.add(Conv2D(128, kernel_size=(3, 3), activation='relu', padding='same', kernel_regularizer=regularizers.l2(0.01)))\n",
    "    model.add(Conv2D(256, kernel_size=(3, 3), activation='relu', kernel_regularizer=regularizers.l2(0.01)))\n",
    "    model.add(BatchNormalization())\n",
    "    model.add(MaxPooling2D(pool_size=(2, 2)))\n",
    "    model.add(Dropout(0.25))\n",
    "\n",
    "    model.add(Flatten())\n",
    "    model.add(Dense(1024, activation='relu'))\n",
    "    model.add(Dropout(0.5))\n",
    "    \n",
    "    model.add(Dense(classes, activation='softmax'))\n",
    "\n",
    "    #model.compile(optimizer=Adam(lr=0.0001, decay=1e-6), \n",
    "    #              loss='categorical_crossentropy', \n",
    "    #              metrics=['accuracy'])\n",
    "    \n",
    "    lr_schedule = tf.keras.optimizers.schedules.ExponentialDecay(\n",
    "    initial_learning_rate=0.0001,\n",
    "    decay_steps=1e-6,\n",
    "    decay_rate=1.0)\n",
    "    optimizer = tf.keras.optimizers.Adam(learning_rate=lr_schedule)\n",
    "    model.compile(optimizer, \n",
    "                  loss='categorical_crossentropy', \n",
    "                  metrics=['accuracy'])\n",
    "    return model"
   ]
  },
  {
   "cell_type": "code",
   "execution_count": 11,
   "id": "44569d8f",
   "metadata": {
    "execution": {
     "iopub.execute_input": "2022-06-16T17:49:54.440792Z",
     "iopub.status.busy": "2022-06-16T17:49:54.440044Z",
     "iopub.status.idle": "2022-06-16T17:49:57.389617Z",
     "shell.execute_reply": "2022-06-16T17:49:57.388859Z"
    },
    "papermill": {
     "duration": 2.962833,
     "end_time": "2022-06-16T17:49:57.393656",
     "exception": false,
     "start_time": "2022-06-16T17:49:54.430823",
     "status": "completed"
    },
    "tags": []
   },
   "outputs": [
    {
     "name": "stdout",
     "output_type": "stream",
     "text": [
      "Model: \"sequential\"\n",
      "_________________________________________________________________\n",
      " Layer (type)                Output Shape              Param #   \n",
      "=================================================================\n",
      " conv2d (Conv2D)             (None, 48, 48, 32)        320       \n",
      "                                                                 \n",
      " conv2d_1 (Conv2D)           (None, 48, 48, 64)        18496     \n",
      "                                                                 \n",
      " batch_normalization (Batch  (None, 48, 48, 64)        256       \n",
      " Normalization)                                                  \n",
      "                                                                 \n",
      " max_pooling2d (MaxPooling2  (None, 24, 24, 64)        0         \n",
      " D)                                                              \n",
      "                                                                 \n",
      " dropout (Dropout)           (None, 24, 24, 64)        0         \n",
      "                                                                 \n",
      " conv2d_2 (Conv2D)           (None, 24, 24, 128)       73856     \n",
      "                                                                 \n",
      " conv2d_3 (Conv2D)           (None, 22, 22, 256)       295168    \n",
      "                                                                 \n",
      " batch_normalization_1 (Bat  (None, 22, 22, 256)       1024      \n",
      " chNormalization)                                                \n",
      "                                                                 \n",
      " max_pooling2d_1 (MaxPoolin  (None, 11, 11, 256)       0         \n",
      " g2D)                                                            \n",
      "                                                                 \n",
      " dropout_1 (Dropout)         (None, 11, 11, 256)       0         \n",
      "                                                                 \n",
      " flatten (Flatten)           (None, 30976)             0         \n",
      "                                                                 \n",
      " dense (Dense)               (None, 1024)              31720448  \n",
      "                                                                 \n",
      " dropout_2 (Dropout)         (None, 1024)              0         \n",
      "                                                                 \n",
      " dense_1 (Dense)             (None, 7)                 7175      \n",
      "                                                                 \n",
      "=================================================================\n",
      "Total params: 32116743 (122.52 MB)\n",
      "Trainable params: 32116103 (122.51 MB)\n",
      "Non-trainable params: 640 (2.50 KB)\n",
      "_________________________________________________________________\n"
     ]
    }
   ],
   "source": [
    "fernet = get_model((row,col,1), classes)\n",
    "fernet.summary()"
   ]
  },
  {
   "cell_type": "code",
   "execution_count": 12,
   "id": "16d049b9",
   "metadata": {
    "execution": {
     "iopub.execute_input": "2022-06-16T17:49:57.413356Z",
     "iopub.status.busy": "2022-06-16T17:49:57.412596Z",
     "iopub.status.idle": "2022-06-16T17:49:58.377315Z",
     "shell.execute_reply": "2022-06-16T17:49:58.376422Z"
    },
    "papermill": {
     "duration": 0.976059,
     "end_time": "2022-06-16T17:49:58.379405",
     "exception": false,
     "start_time": "2022-06-16T17:49:57.403346",
     "status": "completed"
    },
    "tags": []
   },
   "outputs": [
    {
     "name": "stdout",
     "output_type": "stream",
     "text": [
      "You must install pydot (`pip install pydot`) and install graphviz (see instructions at https://graphviz.gitlab.io/download/) for plot_model to work.\n"
     ]
    }
   ],
   "source": [
    "plot_model(fernet, show_layer_names=True)"
   ]
  },
  {
   "cell_type": "markdown",
   "id": "cf9e0f3a",
   "metadata": {
    "papermill": {
     "duration": 0.008985,
     "end_time": "2022-06-16T17:49:58.397688",
     "exception": false,
     "start_time": "2022-06-16T17:49:58.388703",
     "status": "completed"
    },
    "tags": []
   },
   "source": [
    "# Checkpoint"
   ]
  },
  {
   "cell_type": "code",
   "execution_count": 13,
   "id": "86aad176",
   "metadata": {
    "execution": {
     "iopub.execute_input": "2022-06-16T17:49:58.417951Z",
     "iopub.status.busy": "2022-06-16T17:49:58.417630Z",
     "iopub.status.idle": "2022-06-16T17:49:58.762275Z",
     "shell.execute_reply": "2022-06-16T17:49:58.760589Z"
    },
    "papermill": {
     "duration": 0.35843,
     "end_time": "2022-06-16T17:49:58.765362",
     "exception": false,
     "start_time": "2022-06-16T17:49:58.406932",
     "status": "completed"
    },
    "tags": []
   },
   "outputs": [],
   "source": [
    "chk_path = 'ferNet.h5'\n",
    "log_dir = \"checkpoint/logs/\" + datetime.datetime.now().strftime(\"%Y%m%d-%H%M%S\")\n",
    "\n",
    "checkpoint = ModelCheckpoint(filepath=chk_path,\n",
    "                             save_best_only=True,\n",
    "                             verbose=1,\n",
    "                             mode='min',\n",
    "                             moniter='val_accuracy')\n",
    "\n",
    "earlystop = EarlyStopping(monitor='val_accuracy', \n",
    "                          min_delta=0, \n",
    "                          patience=3, \n",
    "                          verbose=1, \n",
    "                          restore_best_weights=True)\n",
    "                        \n",
    "reduce_lr = ReduceLROnPlateau(monitor='val_accuracy', \n",
    "                              factor=0.2, \n",
    "                              patience=6, \n",
    "                              verbose=1, \n",
    "                              min_delta=0.0001)\n",
    "\n",
    "\n",
    "tensorboard_callback = tf.keras.callbacks.TensorBoard(log_dir=log_dir, histogram_freq=1)\n",
    "csv_logger = CSVLogger('training.log')\n",
    "\n",
    "callbacks = [checkpoint, reduce_lr, csv_logger]"
   ]
  },
  {
   "cell_type": "code",
   "execution_count": 14,
   "id": "7e0e26fe",
   "metadata": {
    "_kg_hide-output": true,
    "execution": {
     "iopub.execute_input": "2022-06-16T17:49:58.785383Z",
     "iopub.status.busy": "2022-06-16T17:49:58.785095Z",
     "iopub.status.idle": "2022-06-16T20:33:40.239357Z",
     "shell.execute_reply": "2022-06-16T20:33:40.238491Z"
    },
    "papermill": {
     "duration": 9821.466641,
     "end_time": "2022-06-16T20:33:40.241708",
     "exception": false,
     "start_time": "2022-06-16T17:49:58.775067",
     "status": "completed"
    },
    "scrolled": true,
    "tags": []
   },
   "outputs": [
    {
     "name": "stdout",
     "output_type": "stream",
     "text": [
      "Epoch 1/100\n",
      "317/317 [==============================] - ETA: 0s - loss: 4.4283 - accuracy: 0.2842\n",
      "Epoch 1: val_loss improved from inf to 8.91029, saving model to ferNet.h5\n"
     ]
    },
    {
     "name": "stderr",
     "output_type": "stream",
     "text": [
      "c:\\Users\\M4L_J\\AppData\\Local\\Programs\\Python\\Python38\\lib\\site-packages\\keras\\src\\engine\\training.py:3000: UserWarning: You are saving your model as an HDF5 file via `model.save()`. This file format is considered legacy. We recommend using instead the native Keras format, e.g. `model.save('my_model.keras')`.\n",
      "  saving_api.save_model(\n"
     ]
    },
    {
     "name": "stdout",
     "output_type": "stream",
     "text": [
      "317/317 [==============================] - 1318s 4s/step - loss: 4.4283 - accuracy: 0.2842 - val_loss: 8.9103 - val_accuracy: 0.1729 - lr: 1.0000e-04\n",
      "Epoch 2/100\n",
      "317/317 [==============================] - ETA: 0s - loss: 3.6632 - accuracy: 0.3579\n",
      "Epoch 2: val_loss improved from 8.91029 to 3.62115, saving model to ferNet.h5\n",
      "317/317 [==============================] - 854s 3s/step - loss: 3.6632 - accuracy: 0.3579 - val_loss: 3.6212 - val_accuracy: 0.4289 - lr: 1.0000e-04\n",
      "Epoch 3/100\n",
      "317/317 [==============================] - ETA: 0s - loss: 3.2358 - accuracy: 0.4041 \n",
      "Epoch 3: val_loss improved from 3.62115 to 2.96210, saving model to ferNet.h5\n",
      "317/317 [==============================] - 3665s 12s/step - loss: 3.2358 - accuracy: 0.4041 - val_loss: 2.9621 - val_accuracy: 0.4860 - lr: 1.0000e-04\n",
      "Epoch 4/100\n",
      "317/317 [==============================] - ETA: 0s - loss: 2.8499 - accuracy: 0.4549\n",
      "Epoch 4: val_loss improved from 2.96210 to 2.51450, saving model to ferNet.h5\n",
      "317/317 [==============================] - 807s 3s/step - loss: 2.8499 - accuracy: 0.4549 - val_loss: 2.5145 - val_accuracy: 0.5423 - lr: 1.0000e-04\n",
      "Epoch 5/100\n",
      "317/317 [==============================] - ETA: 0s - loss: 2.5299 - accuracy: 0.4921\n",
      "Epoch 5: val_loss improved from 2.51450 to 2.48435, saving model to ferNet.h5\n",
      "317/317 [==============================] - 752s 2s/step - loss: 2.5299 - accuracy: 0.4921 - val_loss: 2.4843 - val_accuracy: 0.4956 - lr: 1.0000e-04\n",
      "Epoch 6/100\n",
      "317/317 [==============================] - ETA: 0s - loss: 2.2403 - accuracy: 0.5364\n",
      "Epoch 6: val_loss improved from 2.48435 to 2.06423, saving model to ferNet.h5\n",
      "317/317 [==============================] - 751s 2s/step - loss: 2.2403 - accuracy: 0.5364 - val_loss: 2.0642 - val_accuracy: 0.5996 - lr: 1.0000e-04\n",
      "Epoch 7/100\n",
      "317/317 [==============================] - ETA: 0s - loss: 2.0216 - accuracy: 0.5597\n",
      "Epoch 7: val_loss improved from 2.06423 to 1.77360, saving model to ferNet.h5\n",
      "317/317 [==============================] - 721s 2s/step - loss: 2.0216 - accuracy: 0.5597 - val_loss: 1.7736 - val_accuracy: 0.6160 - lr: 1.0000e-04\n",
      "Epoch 8/100\n",
      "317/317 [==============================] - ETA: 0s - loss: 1.8144 - accuracy: 0.5894\n",
      "Epoch 8: val_loss improved from 1.77360 to 1.62562, saving model to ferNet.h5\n",
      "317/317 [==============================] - 815s 3s/step - loss: 1.8144 - accuracy: 0.5894 - val_loss: 1.6256 - val_accuracy: 0.6388 - lr: 1.0000e-04\n",
      "Epoch 9/100\n",
      "317/317 [==============================] - ETA: 0s - loss: 1.6502 - accuracy: 0.6134\n",
      "Epoch 9: val_loss improved from 1.62562 to 1.45555, saving model to ferNet.h5\n",
      "317/317 [==============================] - 754s 2s/step - loss: 1.6502 - accuracy: 0.6134 - val_loss: 1.4555 - val_accuracy: 0.6663 - lr: 1.0000e-04\n",
      "Epoch 10/100\n",
      "317/317 [==============================] - ETA: 0s - loss: 1.5203 - accuracy: 0.6328\n",
      "Epoch 10: val_loss improved from 1.45555 to 1.33430, saving model to ferNet.h5\n",
      "317/317 [==============================] - 815s 3s/step - loss: 1.5203 - accuracy: 0.6328 - val_loss: 1.3343 - val_accuracy: 0.6845 - lr: 1.0000e-04\n",
      "Epoch 11/100\n",
      "317/317 [==============================] - ETA: 0s - loss: 1.4079 - accuracy: 0.6518\n",
      "Epoch 11: val_loss improved from 1.33430 to 1.28623, saving model to ferNet.h5\n",
      "317/317 [==============================] - 746s 2s/step - loss: 1.4079 - accuracy: 0.6518 - val_loss: 1.2862 - val_accuracy: 0.6835 - lr: 1.0000e-04\n",
      "Epoch 12/100\n",
      "317/317 [==============================] - ETA: 0s - loss: 1.2921 - accuracy: 0.6702\n",
      "Epoch 12: val_loss did not improve from 1.28623\n",
      "317/317 [==============================] - 730s 2s/step - loss: 1.2921 - accuracy: 0.6702 - val_loss: 1.3465 - val_accuracy: 0.6474 - lr: 1.0000e-04\n",
      "Epoch 13/100\n",
      "317/317 [==============================] - ETA: 0s - loss: 1.2228 - accuracy: 0.6834\n",
      "Epoch 13: val_loss improved from 1.28623 to 1.18329, saving model to ferNet.h5\n",
      "317/317 [==============================] - 703s 2s/step - loss: 1.2228 - accuracy: 0.6834 - val_loss: 1.1833 - val_accuracy: 0.6785 - lr: 1.0000e-04\n",
      "Epoch 14/100\n",
      "317/317 [==============================] - ETA: 0s - loss: 1.1410 - accuracy: 0.6978\n",
      "Epoch 14: val_loss improved from 1.18329 to 1.08942, saving model to ferNet.h5\n",
      "317/317 [==============================] - 719s 2s/step - loss: 1.1410 - accuracy: 0.6978 - val_loss: 1.0894 - val_accuracy: 0.7087 - lr: 1.0000e-04\n",
      "Epoch 15/100\n",
      "317/317 [==============================] - ETA: 0s - loss: 1.0755 - accuracy: 0.7091\n",
      "Epoch 15: val_loss improved from 1.08942 to 0.99740, saving model to ferNet.h5\n",
      "317/317 [==============================] - 722s 2s/step - loss: 1.0755 - accuracy: 0.7091 - val_loss: 0.9974 - val_accuracy: 0.7328 - lr: 1.0000e-04\n",
      "Epoch 16/100\n",
      "317/317 [==============================] - ETA: 0s - loss: 1.0273 - accuracy: 0.7134\n",
      "Epoch 16: val_loss improved from 0.99740 to 0.97866, saving model to ferNet.h5\n",
      "317/317 [==============================] - 747s 2s/step - loss: 1.0273 - accuracy: 0.7134 - val_loss: 0.9787 - val_accuracy: 0.7312 - lr: 1.0000e-04\n",
      "Epoch 17/100\n",
      "317/317 [==============================] - ETA: 0s - loss: 0.9752 - accuracy: 0.7279\n",
      "Epoch 17: val_loss did not improve from 0.97866\n",
      "317/317 [==============================] - 744s 2s/step - loss: 0.9752 - accuracy: 0.7279 - val_loss: 0.9975 - val_accuracy: 0.7105 - lr: 1.0000e-04\n",
      "Epoch 18/100\n",
      "317/317 [==============================] - ETA: 0s - loss: 0.9231 - accuracy: 0.7397\n",
      "Epoch 18: val_loss improved from 0.97866 to 0.88047, saving model to ferNet.h5\n",
      "317/317 [==============================] - 697s 2s/step - loss: 0.9231 - accuracy: 0.7397 - val_loss: 0.8805 - val_accuracy: 0.7502 - lr: 1.0000e-04\n",
      "Epoch 19/100\n",
      "317/317 [==============================] - ETA: 0s - loss: 0.8819 - accuracy: 0.7514\n",
      "Epoch 19: val_loss did not improve from 0.88047\n",
      "317/317 [==============================] - 727s 2s/step - loss: 0.8819 - accuracy: 0.7514 - val_loss: 0.9091 - val_accuracy: 0.7380 - lr: 1.0000e-04\n",
      "Epoch 20/100\n",
      "317/317 [==============================] - ETA: 0s - loss: 0.8485 - accuracy: 0.7579\n",
      "Epoch 20: val_loss improved from 0.88047 to 0.84544, saving model to ferNet.h5\n",
      "317/317 [==============================] - 767s 2s/step - loss: 0.8485 - accuracy: 0.7579 - val_loss: 0.8454 - val_accuracy: 0.7608 - lr: 1.0000e-04\n",
      "Epoch 21/100\n",
      "317/317 [==============================] - ETA: 0s - loss: 0.8204 - accuracy: 0.7613\n",
      "Epoch 21: val_loss improved from 0.84544 to 0.83102, saving model to ferNet.h5\n",
      "317/317 [==============================] - 747s 2s/step - loss: 0.8204 - accuracy: 0.7613 - val_loss: 0.8310 - val_accuracy: 0.7580 - lr: 1.0000e-04\n",
      "Epoch 22/100\n",
      "317/317 [==============================] - ETA: 0s - loss: 0.7794 - accuracy: 0.7739\n",
      "Epoch 22: val_loss did not improve from 0.83102\n",
      "317/317 [==============================] - 745s 2s/step - loss: 0.7794 - accuracy: 0.7739 - val_loss: 0.8444 - val_accuracy: 0.7472 - lr: 1.0000e-04\n",
      "Epoch 23/100\n",
      "317/317 [==============================] - ETA: 0s - loss: 0.7546 - accuracy: 0.7828\n",
      "Epoch 23: val_loss improved from 0.83102 to 0.80075, saving model to ferNet.h5\n",
      "317/317 [==============================] - 857s 3s/step - loss: 0.7546 - accuracy: 0.7828 - val_loss: 0.8008 - val_accuracy: 0.7658 - lr: 1.0000e-04\n",
      "Epoch 24/100\n",
      "317/317 [==============================] - ETA: 0s - loss: 0.7222 - accuracy: 0.7915\n",
      "Epoch 24: val_loss improved from 0.80075 to 0.77767, saving model to ferNet.h5\n",
      "317/317 [==============================] - 931s 3s/step - loss: 0.7222 - accuracy: 0.7915 - val_loss: 0.7777 - val_accuracy: 0.7748 - lr: 1.0000e-04\n",
      "Epoch 25/100\n",
      "317/317 [==============================] - ETA: 0s - loss: 0.7040 - accuracy: 0.7977\n",
      "Epoch 25: val_loss improved from 0.77767 to 0.77706, saving model to ferNet.h5\n",
      "317/317 [==============================] - 762s 2s/step - loss: 0.7040 - accuracy: 0.7977 - val_loss: 0.7771 - val_accuracy: 0.7724 - lr: 1.0000e-04\n",
      "Epoch 26/100\n",
      "317/317 [==============================] - ETA: 0s - loss: 0.6836 - accuracy: 0.8028\n",
      "Epoch 26: val_loss did not improve from 0.77706\n",
      "317/317 [==============================] - 731s 2s/step - loss: 0.6836 - accuracy: 0.8028 - val_loss: 0.8814 - val_accuracy: 0.7342 - lr: 1.0000e-04\n",
      "Epoch 27/100\n",
      "317/317 [==============================] - ETA: 0s - loss: 0.6668 - accuracy: 0.8046\n",
      "Epoch 27: val_loss improved from 0.77706 to 0.73936, saving model to ferNet.h5\n",
      "317/317 [==============================] - 698s 2s/step - loss: 0.6668 - accuracy: 0.8046 - val_loss: 0.7394 - val_accuracy: 0.7802 - lr: 1.0000e-04\n",
      "Epoch 28/100\n",
      "317/317 [==============================] - ETA: 0s - loss: 0.6418 - accuracy: 0.8127\n",
      "Epoch 28: val_loss did not improve from 0.73936\n",
      "317/317 [==============================] - 700s 2s/step - loss: 0.6418 - accuracy: 0.8127 - val_loss: 0.7579 - val_accuracy: 0.7736 - lr: 1.0000e-04\n",
      "Epoch 29/100\n",
      "317/317 [==============================] - ETA: 0s - loss: 0.6211 - accuracy: 0.8182\n",
      "Epoch 29: val_loss did not improve from 0.73936\n",
      "317/317 [==============================] - 762s 2s/step - loss: 0.6211 - accuracy: 0.8182 - val_loss: 0.7931 - val_accuracy: 0.7612 - lr: 1.0000e-04\n",
      "Epoch 30/100\n",
      "317/317 [==============================] - ETA: 0s - loss: 0.6031 - accuracy: 0.8242\n",
      "Epoch 30: val_loss did not improve from 0.73936\n",
      "317/317 [==============================] - 745s 2s/step - loss: 0.6031 - accuracy: 0.8242 - val_loss: 0.8099 - val_accuracy: 0.7598 - lr: 1.0000e-04\n",
      "Epoch 31/100\n",
      "317/317 [==============================] - ETA: 0s - loss: 0.5833 - accuracy: 0.8286\n",
      "Epoch 31: val_loss did not improve from 0.73936\n",
      "317/317 [==============================] - 746s 2s/step - loss: 0.5833 - accuracy: 0.8286 - val_loss: 0.7506 - val_accuracy: 0.7762 - lr: 1.0000e-04\n",
      "Epoch 32/100\n",
      "317/317 [==============================] - ETA: 0s - loss: 0.5751 - accuracy: 0.8304\n",
      "Epoch 32: val_loss did not improve from 0.73936\n",
      "317/317 [==============================] - 742s 2s/step - loss: 0.5751 - accuracy: 0.8304 - val_loss: 0.7842 - val_accuracy: 0.7748 - lr: 1.0000e-04\n",
      "Epoch 33/100\n",
      "317/317 [==============================] - ETA: 0s - loss: 0.5586 - accuracy: 0.8376\n",
      "Epoch 33: val_loss did not improve from 0.73936\n",
      "\n",
      "Epoch 33: ReduceLROnPlateau reducing learning rate to 1.9999999494757503e-05.\n",
      "317/317 [==============================] - 685s 2s/step - loss: 0.5586 - accuracy: 0.8376 - val_loss: 0.7771 - val_accuracy: 0.7668 - lr: 1.0000e-04\n",
      "Epoch 34/100\n",
      "317/317 [==============================] - ETA: 0s - loss: 0.5494 - accuracy: 0.8385\n",
      "Epoch 34: val_loss did not improve from 0.73936\n",
      "317/317 [==============================] - 704s 2s/step - loss: 0.5494 - accuracy: 0.8385 - val_loss: 0.7432 - val_accuracy: 0.7879 - lr: 1.0000e-04\n",
      "Epoch 35/100\n",
      "317/317 [==============================] - ETA: 0s - loss: 0.5287 - accuracy: 0.8485\n",
      "Epoch 35: val_loss did not improve from 0.73936\n",
      "317/317 [==============================] - 684s 2s/step - loss: 0.5287 - accuracy: 0.8485 - val_loss: 0.8437 - val_accuracy: 0.7380 - lr: 1.0000e-04\n",
      "Epoch 36/100\n",
      "317/317 [==============================] - ETA: 0s - loss: 0.5232 - accuracy: 0.8466\n",
      "Epoch 36: val_loss improved from 0.73936 to 0.69362, saving model to ferNet.h5\n",
      "317/317 [==============================] - 701s 2s/step - loss: 0.5232 - accuracy: 0.8466 - val_loss: 0.6936 - val_accuracy: 0.8001 - lr: 1.0000e-04\n",
      "Epoch 37/100\n",
      "317/317 [==============================] - ETA: 0s - loss: 0.5150 - accuracy: 0.8521\n",
      "Epoch 37: val_loss did not improve from 0.69362\n",
      "317/317 [==============================] - 703s 2s/step - loss: 0.5150 - accuracy: 0.8521 - val_loss: 0.7768 - val_accuracy: 0.7610 - lr: 1.0000e-04\n",
      "Epoch 38/100\n",
      "317/317 [==============================] - ETA: 0s - loss: 0.4920 - accuracy: 0.8593\n",
      "Epoch 38: val_loss did not improve from 0.69362\n",
      "317/317 [==============================] - 696s 2s/step - loss: 0.4920 - accuracy: 0.8593 - val_loss: 0.7806 - val_accuracy: 0.7748 - lr: 1.0000e-04\n",
      "Epoch 39/100\n",
      "317/317 [==============================] - ETA: 0s - loss: 0.4801 - accuracy: 0.8620\n",
      "Epoch 39: val_loss did not improve from 0.69362\n",
      "317/317 [==============================] - 698s 2s/step - loss: 0.4801 - accuracy: 0.8620 - val_loss: 0.7300 - val_accuracy: 0.7885 - lr: 1.0000e-04\n",
      "Epoch 40/100\n",
      "317/317 [==============================] - ETA: 0s - loss: 0.4772 - accuracy: 0.8631\n",
      "Epoch 40: val_loss did not improve from 0.69362\n",
      "317/317 [==============================] - 739s 2s/step - loss: 0.4772 - accuracy: 0.8631 - val_loss: 0.7612 - val_accuracy: 0.7768 - lr: 1.0000e-04\n",
      "Epoch 41/100\n",
      "317/317 [==============================] - ETA: 0s - loss: 0.4682 - accuracy: 0.8662\n",
      "Epoch 41: val_loss did not improve from 0.69362\n",
      "317/317 [==============================] - 713s 2s/step - loss: 0.4682 - accuracy: 0.8662 - val_loss: 0.7142 - val_accuracy: 0.7913 - lr: 1.0000e-04\n",
      "Epoch 42/100\n",
      "317/317 [==============================] - ETA: 0s - loss: 0.4508 - accuracy: 0.8730\n",
      "Epoch 42: val_loss did not improve from 0.69362\n",
      "\n",
      "Epoch 42: ReduceLROnPlateau reducing learning rate to 1.9999999494757503e-05.\n",
      "317/317 [==============================] - 711s 2s/step - loss: 0.4508 - accuracy: 0.8730 - val_loss: 0.7678 - val_accuracy: 0.7937 - lr: 1.0000e-04\n",
      "Epoch 43/100\n",
      "317/317 [==============================] - ETA: 0s - loss: 0.4424 - accuracy: 0.8766\n",
      "Epoch 43: val_loss did not improve from 0.69362\n",
      "317/317 [==============================] - 742s 2s/step - loss: 0.4424 - accuracy: 0.8766 - val_loss: 0.7247 - val_accuracy: 0.7965 - lr: 1.0000e-04\n",
      "Epoch 44/100\n",
      "317/317 [==============================] - ETA: 0s - loss: 0.4375 - accuracy: 0.8778\n",
      "Epoch 44: val_loss did not improve from 0.69362\n",
      "317/317 [==============================] - 744s 2s/step - loss: 0.4375 - accuracy: 0.8778 - val_loss: 0.7454 - val_accuracy: 0.7841 - lr: 1.0000e-04\n",
      "Epoch 45/100\n",
      "317/317 [==============================] - ETA: 0s - loss: 0.4358 - accuracy: 0.8792\n",
      "Epoch 45: val_loss did not improve from 0.69362\n",
      "317/317 [==============================] - 722s 2s/step - loss: 0.4358 - accuracy: 0.8792 - val_loss: 0.7456 - val_accuracy: 0.7845 - lr: 1.0000e-04\n",
      "Epoch 46/100\n",
      "317/317 [==============================] - ETA: 0s - loss: 0.4173 - accuracy: 0.8830\n",
      "Epoch 46: val_loss did not improve from 0.69362\n",
      "317/317 [==============================] - 728s 2s/step - loss: 0.4173 - accuracy: 0.8830 - val_loss: 0.7133 - val_accuracy: 0.7959 - lr: 1.0000e-04\n",
      "Epoch 47/100\n",
      "317/317 [==============================] - ETA: 0s - loss: 0.4125 - accuracy: 0.8843\n",
      "Epoch 47: val_loss did not improve from 0.69362\n",
      "317/317 [==============================] - 728s 2s/step - loss: 0.4125 - accuracy: 0.8843 - val_loss: 0.7455 - val_accuracy: 0.7849 - lr: 1.0000e-04\n",
      "Epoch 48/100\n",
      "317/317 [==============================] - ETA: 0s - loss: 0.4074 - accuracy: 0.8865\n",
      "Epoch 48: val_loss did not improve from 0.69362\n",
      "\n",
      "Epoch 48: ReduceLROnPlateau reducing learning rate to 1.9999999494757503e-05.\n",
      "317/317 [==============================] - 719s 2s/step - loss: 0.4074 - accuracy: 0.8865 - val_loss: 0.7463 - val_accuracy: 0.7911 - lr: 1.0000e-04\n",
      "Epoch 49/100\n",
      "317/317 [==============================] - ETA: 0s - loss: 0.3959 - accuracy: 0.8889\n",
      "Epoch 49: val_loss did not improve from 0.69362\n",
      "317/317 [==============================] - 761s 2s/step - loss: 0.3959 - accuracy: 0.8889 - val_loss: 0.8230 - val_accuracy: 0.7899 - lr: 1.0000e-04\n",
      "Epoch 50/100\n",
      "317/317 [==============================] - ETA: 0s - loss: 0.3941 - accuracy: 0.8891\n",
      "Epoch 50: val_loss did not improve from 0.69362\n",
      "317/317 [==============================] - 739s 2s/step - loss: 0.3941 - accuracy: 0.8891 - val_loss: 0.7716 - val_accuracy: 0.7891 - lr: 1.0000e-04\n",
      "Epoch 51/100\n",
      "317/317 [==============================] - ETA: 0s - loss: 0.3921 - accuracy: 0.8905\n",
      "Epoch 51: val_loss did not improve from 0.69362\n",
      "317/317 [==============================] - 719s 2s/step - loss: 0.3921 - accuracy: 0.8905 - val_loss: 0.7500 - val_accuracy: 0.7845 - lr: 1.0000e-04\n",
      "Epoch 52/100\n",
      "317/317 [==============================] - ETA: 0s - loss: 0.3860 - accuracy: 0.8917\n",
      "Epoch 52: val_loss did not improve from 0.69362\n",
      "317/317 [==============================] - 712s 2s/step - loss: 0.3860 - accuracy: 0.8917 - val_loss: 0.7502 - val_accuracy: 0.8013 - lr: 1.0000e-04\n",
      "Epoch 53/100\n",
      "317/317 [==============================] - ETA: 0s - loss: 0.3812 - accuracy: 0.8936\n",
      "Epoch 53: val_loss did not improve from 0.69362\n",
      "317/317 [==============================] - 720s 2s/step - loss: 0.3812 - accuracy: 0.8936 - val_loss: 0.7206 - val_accuracy: 0.7929 - lr: 1.0000e-04\n",
      "Epoch 54/100\n",
      "317/317 [==============================] - ETA: 0s - loss: 0.3613 - accuracy: 0.9009\n",
      "Epoch 54: val_loss did not improve from 0.69362\n",
      "317/317 [==============================] - 711s 2s/step - loss: 0.3613 - accuracy: 0.9009 - val_loss: 0.7440 - val_accuracy: 0.7985 - lr: 1.0000e-04\n",
      "Epoch 55/100\n",
      "317/317 [==============================] - ETA: 0s - loss: 0.3582 - accuracy: 0.9029\n",
      "Epoch 55: val_loss did not improve from 0.69362\n",
      "317/317 [==============================] - 728s 2s/step - loss: 0.3582 - accuracy: 0.9029 - val_loss: 0.7364 - val_accuracy: 0.7925 - lr: 1.0000e-04\n",
      "Epoch 56/100\n",
      "317/317 [==============================] - ETA: 0s - loss: 0.3608 - accuracy: 0.9031\n",
      "Epoch 56: val_loss did not improve from 0.69362\n",
      "317/317 [==============================] - 718s 2s/step - loss: 0.3608 - accuracy: 0.9031 - val_loss: 0.7439 - val_accuracy: 0.8047 - lr: 1.0000e-04\n",
      "Epoch 57/100\n",
      "317/317 [==============================] - ETA: 0s - loss: 0.3588 - accuracy: 0.9029\n",
      "Epoch 57: val_loss did not improve from 0.69362\n",
      "317/317 [==============================] - 706s 2s/step - loss: 0.3588 - accuracy: 0.9029 - val_loss: 0.7695 - val_accuracy: 0.8001 - lr: 1.0000e-04\n",
      "Epoch 58/100\n",
      "317/317 [==============================] - ETA: 0s - loss: 0.3520 - accuracy: 0.9061\n",
      "Epoch 58: val_loss did not improve from 0.69362\n",
      "317/317 [==============================] - 716s 2s/step - loss: 0.3520 - accuracy: 0.9061 - val_loss: 0.8354 - val_accuracy: 0.7718 - lr: 1.0000e-04\n",
      "Epoch 59/100\n",
      "317/317 [==============================] - ETA: 0s - loss: 0.3435 - accuracy: 0.9065\n",
      "Epoch 59: val_loss did not improve from 0.69362\n",
      "317/317 [==============================] - 714s 2s/step - loss: 0.3435 - accuracy: 0.9065 - val_loss: 0.7830 - val_accuracy: 0.7935 - lr: 1.0000e-04\n",
      "Epoch 60/100\n",
      "317/317 [==============================] - ETA: 0s - loss: 0.3440 - accuracy: 0.9064\n",
      "Epoch 60: val_loss did not improve from 0.69362\n",
      "317/317 [==============================] - 753s 2s/step - loss: 0.3440 - accuracy: 0.9064 - val_loss: 0.7506 - val_accuracy: 0.7939 - lr: 1.0000e-04\n",
      "Epoch 61/100\n",
      "317/317 [==============================] - ETA: 0s - loss: 0.3305 - accuracy: 0.9114\n",
      "Epoch 61: val_loss did not improve from 0.69362\n",
      "317/317 [==============================] - 753s 2s/step - loss: 0.3305 - accuracy: 0.9114 - val_loss: 0.7900 - val_accuracy: 0.7937 - lr: 1.0000e-04\n",
      "Epoch 62/100\n",
      "317/317 [==============================] - ETA: 0s - loss: 0.3322 - accuracy: 0.9118\n",
      "Epoch 62: val_loss did not improve from 0.69362\n",
      "\n",
      "Epoch 62: ReduceLROnPlateau reducing learning rate to 1.9999999494757503e-05.\n",
      "317/317 [==============================] - 722s 2s/step - loss: 0.3322 - accuracy: 0.9118 - val_loss: 0.7614 - val_accuracy: 0.7983 - lr: 1.0000e-04\n",
      "Epoch 63/100\n",
      "317/317 [==============================] - ETA: 0s - loss: 0.3289 - accuracy: 0.9111\n",
      "Epoch 63: val_loss did not improve from 0.69362\n",
      "317/317 [==============================] - 733s 2s/step - loss: 0.3289 - accuracy: 0.9111 - val_loss: 0.7375 - val_accuracy: 0.7987 - lr: 1.0000e-04\n",
      "Epoch 64/100\n",
      "317/317 [==============================] - ETA: 0s - loss: 0.3313 - accuracy: 0.9111\n",
      "Epoch 64: val_loss did not improve from 0.69362\n",
      "317/317 [==============================] - 730s 2s/step - loss: 0.3313 - accuracy: 0.9111 - val_loss: 0.7231 - val_accuracy: 0.8033 - lr: 1.0000e-04\n",
      "Epoch 65/100\n",
      "317/317 [==============================] - ETA: 0s - loss: 0.3179 - accuracy: 0.9140\n",
      "Epoch 65: val_loss did not improve from 0.69362\n",
      "317/317 [==============================] - 739s 2s/step - loss: 0.3179 - accuracy: 0.9140 - val_loss: 0.8751 - val_accuracy: 0.7648 - lr: 1.0000e-04\n",
      "Epoch 66/100\n",
      "317/317 [==============================] - ETA: 0s - loss: 0.3162 - accuracy: 0.9164\n",
      "Epoch 66: val_loss did not improve from 0.69362\n",
      "317/317 [==============================] - 752s 2s/step - loss: 0.3162 - accuracy: 0.9164 - val_loss: 0.8113 - val_accuracy: 0.7929 - lr: 1.0000e-04\n",
      "Epoch 67/100\n",
      "317/317 [==============================] - ETA: 0s - loss: 0.3136 - accuracy: 0.9168\n",
      "Epoch 67: val_loss did not improve from 0.69362\n",
      "317/317 [==============================] - 764s 2s/step - loss: 0.3136 - accuracy: 0.9168 - val_loss: 0.7633 - val_accuracy: 0.7889 - lr: 1.0000e-04\n",
      "Epoch 68/100\n",
      "317/317 [==============================] - ETA: 0s - loss: 0.3128 - accuracy: 0.9163\n",
      "Epoch 68: val_loss did not improve from 0.69362\n",
      "\n",
      "Epoch 68: ReduceLROnPlateau reducing learning rate to 1.9999999494757503e-05.\n",
      "317/317 [==============================] - 754s 2s/step - loss: 0.3128 - accuracy: 0.9163 - val_loss: 0.8454 - val_accuracy: 0.7933 - lr: 1.0000e-04\n",
      "Epoch 69/100\n",
      "317/317 [==============================] - ETA: 0s - loss: 0.3082 - accuracy: 0.9176\n",
      "Epoch 69: val_loss did not improve from 0.69362\n",
      "317/317 [==============================] - 782s 2s/step - loss: 0.3082 - accuracy: 0.9176 - val_loss: 0.8477 - val_accuracy: 0.7823 - lr: 1.0000e-04\n",
      "Epoch 70/100\n",
      "317/317 [==============================] - ETA: 0s - loss: 0.3049 - accuracy: 0.9191\n",
      "Epoch 70: val_loss did not improve from 0.69362\n",
      "317/317 [==============================] - 765s 2s/step - loss: 0.3049 - accuracy: 0.9191 - val_loss: 0.7303 - val_accuracy: 0.7991 - lr: 1.0000e-04\n",
      "Epoch 71/100\n",
      "317/317 [==============================] - ETA: 0s - loss: 0.3012 - accuracy: 0.9209\n",
      "Epoch 71: val_loss did not improve from 0.69362\n",
      "317/317 [==============================] - 731s 2s/step - loss: 0.3012 - accuracy: 0.9209 - val_loss: 0.7809 - val_accuracy: 0.8011 - lr: 1.0000e-04\n",
      "Epoch 72/100\n",
      "317/317 [==============================] - ETA: 0s - loss: 0.2958 - accuracy: 0.9224\n",
      "Epoch 72: val_loss did not improve from 0.69362\n",
      "317/317 [==============================] - 758s 2s/step - loss: 0.2958 - accuracy: 0.9224 - val_loss: 0.7777 - val_accuracy: 0.7909 - lr: 1.0000e-04\n",
      "Epoch 73/100\n",
      "317/317 [==============================] - ETA: 0s - loss: 0.2953 - accuracy: 0.9230\n",
      "Epoch 73: val_loss did not improve from 0.69362\n",
      "317/317 [==============================] - 724s 2s/step - loss: 0.2953 - accuracy: 0.9230 - val_loss: 0.7838 - val_accuracy: 0.7933 - lr: 1.0000e-04\n",
      "Epoch 74/100\n",
      "317/317 [==============================] - ETA: 0s - loss: 0.2952 - accuracy: 0.9214\n",
      "Epoch 74: val_loss did not improve from 0.69362\n",
      "\n",
      "Epoch 74: ReduceLROnPlateau reducing learning rate to 1.9999999494757503e-05.\n",
      "317/317 [==============================] - 743s 2s/step - loss: 0.2952 - accuracy: 0.9214 - val_loss: 0.8050 - val_accuracy: 0.7937 - lr: 1.0000e-04\n",
      "Epoch 75/100\n",
      "317/317 [==============================] - ETA: 0s - loss: 0.2962 - accuracy: 0.9227\n",
      "Epoch 75: val_loss did not improve from 0.69362\n",
      "317/317 [==============================] - 728s 2s/step - loss: 0.2962 - accuracy: 0.9227 - val_loss: 0.7743 - val_accuracy: 0.7959 - lr: 1.0000e-04\n",
      "Epoch 76/100\n",
      "317/317 [==============================] - ETA: 0s - loss: 0.2824 - accuracy: 0.9270\n",
      "Epoch 76: val_loss did not improve from 0.69362\n",
      "317/317 [==============================] - 721s 2s/step - loss: 0.2824 - accuracy: 0.9270 - val_loss: 0.7967 - val_accuracy: 0.7925 - lr: 1.0000e-04\n",
      "Epoch 77/100\n",
      "317/317 [==============================] - ETA: 0s - loss: 0.2842 - accuracy: 0.9250\n",
      "Epoch 77: val_loss did not improve from 0.69362\n",
      "317/317 [==============================] - 722s 2s/step - loss: 0.2842 - accuracy: 0.9250 - val_loss: 0.7701 - val_accuracy: 0.7901 - lr: 1.0000e-04\n",
      "Epoch 78/100\n",
      "317/317 [==============================] - ETA: 0s - loss: 0.2775 - accuracy: 0.9285\n",
      "Epoch 78: val_loss did not improve from 0.69362\n",
      "317/317 [==============================] - 724s 2s/step - loss: 0.2775 - accuracy: 0.9285 - val_loss: 0.7500 - val_accuracy: 0.8083 - lr: 1.0000e-04\n",
      "Epoch 79/100\n",
      "317/317 [==============================] - ETA: 0s - loss: 0.2640 - accuracy: 0.9325\n",
      "Epoch 79: val_loss did not improve from 0.69362\n",
      "317/317 [==============================] - 710s 2s/step - loss: 0.2640 - accuracy: 0.9325 - val_loss: 0.7686 - val_accuracy: 0.8039 - lr: 1.0000e-04\n",
      "Epoch 80/100\n",
      "317/317 [==============================] - ETA: 0s - loss: 0.2788 - accuracy: 0.9272\n",
      "Epoch 80: val_loss did not improve from 0.69362\n",
      "317/317 [==============================] - 723s 2s/step - loss: 0.2788 - accuracy: 0.9272 - val_loss: 0.8008 - val_accuracy: 0.7949 - lr: 1.0000e-04\n",
      "Epoch 81/100\n",
      "317/317 [==============================] - ETA: 0s - loss: 0.2727 - accuracy: 0.9294\n",
      "Epoch 81: val_loss did not improve from 0.69362\n",
      "317/317 [==============================] - 727s 2s/step - loss: 0.2727 - accuracy: 0.9294 - val_loss: 0.9633 - val_accuracy: 0.8011 - lr: 1.0000e-04\n",
      "Epoch 82/100\n",
      "317/317 [==============================] - ETA: 0s - loss: 0.2869 - accuracy: 0.9240\n",
      "Epoch 82: val_loss did not improve from 0.69362\n",
      "317/317 [==============================] - 740s 2s/step - loss: 0.2869 - accuracy: 0.9240 - val_loss: 0.8018 - val_accuracy: 0.7949 - lr: 1.0000e-04\n",
      "Epoch 83/100\n",
      "317/317 [==============================] - ETA: 0s - loss: 0.2650 - accuracy: 0.9322\n",
      "Epoch 83: val_loss did not improve from 0.69362\n",
      "317/317 [==============================] - 891s 3s/step - loss: 0.2650 - accuracy: 0.9322 - val_loss: 0.8220 - val_accuracy: 0.7965 - lr: 1.0000e-04\n",
      "Epoch 84/100\n",
      "317/317 [==============================] - ETA: 0s - loss: 0.2669 - accuracy: 0.9307\n",
      "Epoch 84: val_loss did not improve from 0.69362\n",
      "\n",
      "Epoch 84: ReduceLROnPlateau reducing learning rate to 1.9999999494757503e-05.\n",
      "317/317 [==============================] - 807s 3s/step - loss: 0.2669 - accuracy: 0.9307 - val_loss: 0.8236 - val_accuracy: 0.7853 - lr: 1.0000e-04\n",
      "Epoch 85/100\n",
      "317/317 [==============================] - ETA: 0s - loss: 0.2643 - accuracy: 0.9315\n",
      "Epoch 85: val_loss did not improve from 0.69362\n",
      "317/317 [==============================] - 791s 2s/step - loss: 0.2643 - accuracy: 0.9315 - val_loss: 0.8994 - val_accuracy: 0.7919 - lr: 1.0000e-04\n",
      "Epoch 86/100\n",
      "317/317 [==============================] - ETA: 0s - loss: 0.2646 - accuracy: 0.9315\n",
      "Epoch 86: val_loss did not improve from 0.69362\n",
      "317/317 [==============================] - 946s 3s/step - loss: 0.2646 - accuracy: 0.9315 - val_loss: 0.8030 - val_accuracy: 0.7985 - lr: 1.0000e-04\n",
      "Epoch 87/100\n",
      "317/317 [==============================] - ETA: 0s - loss: 0.2658 - accuracy: 0.9302\n",
      "Epoch 87: val_loss did not improve from 0.69362\n",
      "317/317 [==============================] - 1005s 3s/step - loss: 0.2658 - accuracy: 0.9302 - val_loss: 0.9250 - val_accuracy: 0.7770 - lr: 1.0000e-04\n",
      "Epoch 88/100\n",
      "317/317 [==============================] - ETA: 0s - loss: 0.2592 - accuracy: 0.9320\n",
      "Epoch 88: val_loss did not improve from 0.69362\n",
      "317/317 [==============================] - 856s 3s/step - loss: 0.2592 - accuracy: 0.9320 - val_loss: 0.9270 - val_accuracy: 0.7829 - lr: 1.0000e-04\n",
      "Epoch 89/100\n",
      "317/317 [==============================] - ETA: 0s - loss: 0.2608 - accuracy: 0.9341\n",
      "Epoch 89: val_loss did not improve from 0.69362\n",
      "317/317 [==============================] - 737s 2s/step - loss: 0.2608 - accuracy: 0.9341 - val_loss: 0.7886 - val_accuracy: 0.8025 - lr: 1.0000e-04\n",
      "Epoch 90/100\n",
      "317/317 [==============================] - ETA: 0s - loss: 0.2572 - accuracy: 0.9341\n",
      "Epoch 90: val_loss did not improve from 0.69362\n",
      "\n",
      "Epoch 90: ReduceLROnPlateau reducing learning rate to 1.9999999494757503e-05.\n",
      "317/317 [==============================] - 769s 2s/step - loss: 0.2572 - accuracy: 0.9341 - val_loss: 0.7748 - val_accuracy: 0.7949 - lr: 1.0000e-04\n",
      "Epoch 91/100\n",
      "317/317 [==============================] - ETA: 0s - loss: 0.2518 - accuracy: 0.9341\n",
      "Epoch 91: val_loss did not improve from 0.69362\n",
      "317/317 [==============================] - 727s 2s/step - loss: 0.2518 - accuracy: 0.9341 - val_loss: 0.8635 - val_accuracy: 0.7919 - lr: 1.0000e-04\n",
      "Epoch 92/100\n",
      "317/317 [==============================] - ETA: 0s - loss: 0.2497 - accuracy: 0.9357\n",
      "Epoch 92: val_loss did not improve from 0.69362\n",
      "317/317 [==============================] - 770s 2s/step - loss: 0.2497 - accuracy: 0.9357 - val_loss: 0.8862 - val_accuracy: 0.7827 - lr: 1.0000e-04\n",
      "Epoch 93/100\n",
      "317/317 [==============================] - ETA: 0s - loss: 0.2518 - accuracy: 0.9368\n",
      "Epoch 93: val_loss did not improve from 0.69362\n",
      "317/317 [==============================] - 771s 2s/step - loss: 0.2518 - accuracy: 0.9368 - val_loss: 0.8198 - val_accuracy: 0.7881 - lr: 1.0000e-04\n",
      "Epoch 94/100\n",
      "317/317 [==============================] - ETA: 0s - loss: 0.2536 - accuracy: 0.9360\n",
      "Epoch 94: val_loss did not improve from 0.69362\n",
      "317/317 [==============================] - 862s 3s/step - loss: 0.2536 - accuracy: 0.9360 - val_loss: 0.8519 - val_accuracy: 0.7963 - lr: 1.0000e-04\n",
      "Epoch 95/100\n",
      "317/317 [==============================] - ETA: 0s - loss: 0.2498 - accuracy: 0.9364\n",
      "Epoch 95: val_loss did not improve from 0.69362\n",
      "317/317 [==============================] - 772s 2s/step - loss: 0.2498 - accuracy: 0.9364 - val_loss: 0.8776 - val_accuracy: 0.7967 - lr: 1.0000e-04\n",
      "Epoch 96/100\n",
      "317/317 [==============================] - ETA: 0s - loss: 0.2408 - accuracy: 0.9395\n",
      "Epoch 96: val_loss did not improve from 0.69362\n",
      "\n",
      "Epoch 96: ReduceLROnPlateau reducing learning rate to 1.9999999494757503e-05.\n",
      "317/317 [==============================] - 739s 2s/step - loss: 0.2408 - accuracy: 0.9395 - val_loss: 0.8663 - val_accuracy: 0.7967 - lr: 1.0000e-04\n",
      "Epoch 97/100\n",
      "317/317 [==============================] - ETA: 0s - loss: 0.2374 - accuracy: 0.9388\n",
      "Epoch 97: val_loss did not improve from 0.69362\n",
      "317/317 [==============================] - 728s 2s/step - loss: 0.2374 - accuracy: 0.9388 - val_loss: 0.7680 - val_accuracy: 0.7995 - lr: 1.0000e-04\n",
      "Epoch 98/100\n",
      "317/317 [==============================] - ETA: 0s - loss: 0.2432 - accuracy: 0.9381\n",
      "Epoch 98: val_loss did not improve from 0.69362\n",
      "317/317 [==============================] - 732s 2s/step - loss: 0.2432 - accuracy: 0.9381 - val_loss: 0.8204 - val_accuracy: 0.7989 - lr: 1.0000e-04\n",
      "Epoch 99/100\n",
      "317/317 [==============================] - ETA: 0s - loss: 0.2391 - accuracy: 0.9399\n",
      "Epoch 99: val_loss did not improve from 0.69362\n",
      "317/317 [==============================] - 719s 2s/step - loss: 0.2391 - accuracy: 0.9399 - val_loss: 0.9263 - val_accuracy: 0.7921 - lr: 1.0000e-04\n",
      "Epoch 100/100\n",
      "317/317 [==============================] - ETA: 0s - loss: 0.2347 - accuracy: 0.9413\n",
      "Epoch 100: val_loss did not improve from 0.69362\n",
      "317/317 [==============================] - 767s 2s/step - loss: 0.2347 - accuracy: 0.9413 - val_loss: 0.8670 - val_accuracy: 0.8051 - lr: 1.0000e-04\n"
     ]
    }
   ],
   "source": [
    "steps_per_epoch = training_set.n // training_set.batch_size\n",
    "validation_steps = test_set.n // test_set.batch_size\n",
    "\n",
    "hist = fernet.fit(x=training_set,\n",
    "                  validation_data=test_set,\n",
    "                  epochs=100,\n",
    "                  callbacks=callbacks,\n",
    "                  steps_per_epoch=steps_per_epoch,\n",
    "                  validation_steps=validation_steps)"
   ]
  },
  {
   "cell_type": "code",
   "execution_count": 26,
   "id": "ed16535c",
   "metadata": {
    "execution": {
     "iopub.execute_input": "2022-06-16T20:33:48.586388Z",
     "iopub.status.busy": "2022-06-16T20:33:48.586040Z",
     "iopub.status.idle": "2022-06-16T20:33:48.828374Z",
     "shell.execute_reply": "2022-06-16T20:33:48.827617Z"
    },
    "papermill": {
     "duration": 4.426591,
     "end_time": "2022-06-16T20:33:48.830241",
     "exception": false,
     "start_time": "2022-06-16T20:33:44.403650",
     "status": "completed"
    },
    "tags": []
   },
   "outputs": [
    {
     "data": {
      "text/plain": [
       "<matplotlib.legend.Legend at 0x21da89f5670>"
      ]
     },
     "execution_count": 26,
     "metadata": {},
     "output_type": "execute_result"
    },
    {
     "data": {
      "image/png": "[encoded data removed]",
      "text/plain": [
       "<Figure size 640x480 with 1 Axes>"
      ]
     },
     "metadata": {},
     "output_type": "display_data"
    }
   ],
   "source": [
    "plt.plot(hist.history['loss'])\n",
    "plt.plot(hist.history['val_loss'])\n",
    "plt.title('model loss')\n",
    "plt.ylabel('loss')\n",
    "plt.xlabel('epoch')\n",
    "plt.legend(['train', 'test'], loc='upper right')"
   ]
  },
  {
   "cell_type": "code",
   "execution_count": 16,
   "id": "5d07190a",
   "metadata": {
    "execution": {
     "iopub.execute_input": "2022-06-16T20:33:57.630767Z",
     "iopub.status.busy": "2022-06-16T20:33:57.629964Z",
     "iopub.status.idle": "2022-06-16T20:33:57.855615Z",
     "shell.execute_reply": "2022-06-16T20:33:57.854878Z"
    },
    "papermill": {
     "duration": 4.522784,
     "end_time": "2022-06-16T20:33:57.857782",
     "exception": false,
     "start_time": "2022-06-16T20:33:53.334998",
     "status": "completed"
    },
    "tags": []
   },
   "outputs": [
    {
     "data": {
      "text/plain": [
       "<matplotlib.legend.Legend at 0x21da8323fd0>"
      ]
     },
     "execution_count": 16,
     "metadata": {},
     "output_type": "execute_result"
    },
    {
     "data": {
      "image/png": "[encoded data removed]",
      "text/plain": [
       "<Figure size 640x480 with 1 Axes>"
      ]
     },
     "metadata": {},
     "output_type": "display_data"
    }
   ],
   "source": [
    "plt.plot(hist.history['accuracy'])\n",
    "plt.plot(hist.history['val_accuracy'])\n",
    "plt.title('model accuracy')\n",
    "plt.ylabel('accuracy')\n",
    "plt.xlabel('epoch')\n",
    "plt.legend(['train', 'test'], loc='upper right')"
   ]
  },
  {
   "cell_type": "code",
   "execution_count": 17,
   "id": "1442f8e1",
   "metadata": {
    "execution": {
     "iopub.execute_input": "2022-06-16T20:34:07.257651Z",
     "iopub.status.busy": "2022-06-16T20:34:07.257298Z",
     "iopub.status.idle": "2022-06-16T20:34:46.579889Z",
     "shell.execute_reply": "2022-06-16T20:34:46.578919Z"
    },
    "papermill": {
     "duration": 43.657767,
     "end_time": "2022-06-16T20:34:46.581642",
     "exception": false,
     "start_time": "2022-06-16T20:34:02.923875",
     "status": "completed"
    },
    "tags": []
   },
   "outputs": [
    {
     "name": "stdout",
     "output_type": "stream",
     "text": [
      "318/318 [==============================] - 256s 805ms/step - loss: 0.1329 - accuracy: 0.9787\n",
      "79/79 [==============================] - 41s 518ms/step - loss: 0.8659 - accuracy: 0.8052\n",
      "final train accuracy = 97.87 , validation accuracy = 80.52\n"
     ]
    }
   ],
   "source": [
    "train_loss, train_accu = fernet.evaluate(training_set)\n",
    "test_loss, test_accu = fernet.evaluate(test_set)\n",
    "print(\"final train accuracy = {:.2f} , validation accuracy = {:.2f}\".format(train_accu*100, test_accu*100))"
   ]
  },
  {
   "cell_type": "code",
   "execution_count": 18,
   "id": "78f0eaf8",
   "metadata": {},
   "outputs": [
    {
     "name": "stdout",
     "output_type": "stream",
     "text": [
      "Model Saved!\n"
     ]
    }
   ],
   "source": [
    "# save model\n",
    "fernet.save('fModel.h5')\n",
    "print('Model Saved!')"
   ]
  },
  {
   "cell_type": "code",
   "execution_count": 19,
   "id": "d8860516",
   "metadata": {},
   "outputs": [
    {
     "name": "stdout",
     "output_type": "stream",
     "text": [
      "Saved model to disk\n"
     ]
    }
   ],
   "source": [
    "model_json = fernet.to_json()\n",
    "with open(\"Updatedmodel.json\", \"w\") as json_file:\n",
    "    json_file.write(model_json)\n",
    "# serialize weights to HDF5\n",
    "fernet.save_weights(\"Updatedmodel.h5\")\n",
    "print(\"Saved model to disk\")"
   ]
  },
  {
   "cell_type": "markdown",
   "id": "db7524c4",
   "metadata": {
    "papermill": {
     "duration": 4.285855,
     "end_time": "2022-06-16T20:34:55.083376",
     "exception": false,
     "start_time": "2022-06-16T20:34:50.797521",
     "status": "completed"
    },
    "tags": []
   },
   "source": [
    "# Result"
   ]
  },
  {
   "cell_type": "code",
   "execution_count": 20,
   "id": "3505cef1",
   "metadata": {
    "execution": {
     "iopub.execute_input": "2022-06-16T20:35:03.826350Z",
     "iopub.status.busy": "2022-06-16T20:35:03.825976Z",
     "iopub.status.idle": "2022-06-16T20:35:38.830157Z",
     "shell.execute_reply": "2022-06-16T20:35:38.829386Z"
    },
    "papermill": {
     "duration": 39.226612,
     "end_time": "2022-06-16T20:35:38.832100",
     "exception": false,
     "start_time": "2022-06-16T20:34:59.605488",
     "status": "completed"
    },
    "tags": []
   },
   "outputs": [
    {
     "name": "stdout",
     "output_type": "stream",
     "text": [
      "318/318 [==============================] - 270s 844ms/step\n",
      "Confusion Matrix\n",
      "[[565  77 543 492 531 559 548]\n",
      " [ 80  16  68  58  61  87  66]\n",
      " [537  58 564 551 551 539 546]\n",
      " [573  67 570 539 549 501 535]\n",
      " [535  64 556 598 562 521 540]\n",
      " [529  59 513 555 559 475 502]\n",
      " [523  60 509 549 570 537 573]]\n",
      "Classification Report\n",
      "              precision    recall  f1-score   support\n",
      "\n",
      "       Anger       0.17      0.17      0.17      3315\n",
      "     Disgust       0.04      0.04      0.04       436\n",
      "        Fear       0.17      0.17      0.17      3346\n",
      "       Happy       0.16      0.16      0.16      3334\n",
      "     Neutral       0.17      0.17      0.17      3376\n",
      "         Sad       0.15      0.15      0.15      3192\n",
      "    Surprise       0.17      0.17      0.17      3321\n",
      "\n",
      "    accuracy                           0.16     20320\n",
      "   macro avg       0.15      0.15      0.15     20320\n",
      "weighted avg       0.16      0.16      0.16     20320\n",
      "\n"
     ]
    },
    {
     "data": {
      "image/png": "[encoded data removed]",
      "text/plain": [
       "<Figure size 800x800 with 2 Axes>"
      ]
     },
     "metadata": {},
     "output_type": "display_data"
    }
   ],
   "source": [
    "y_pred = fernet.predict(training_set)\n",
    "y_pred = np.argmax(y_pred, axis=1)\n",
    "class_labels = test_set.class_indices\n",
    "class_labels = {v:k for k,v in class_labels.items()}\n",
    "\n",
    "cm_train = confusion_matrix(training_set.classes, y_pred)\n",
    "print('Confusion Matrix')\n",
    "print(cm_train)\n",
    "print('Classification Report')\n",
    "target_names = list(class_labels.values())\n",
    "print(classification_report(training_set.classes, y_pred, target_names=target_names))\n",
    "\n",
    "plt.figure(figsize=(8,8))\n",
    "plt.imshow(cm_train, interpolation='nearest')\n",
    "plt.colorbar()\n",
    "tick_mark = np.arange(len(target_names))\n",
    "_ = plt.xticks(tick_mark, target_names, rotation=90)\n",
    "_ = plt.yticks(tick_mark, target_names)"
   ]
  },
  {
   "cell_type": "code",
   "execution_count": 21,
   "id": "8c108ff6",
   "metadata": {
    "execution": {
     "iopub.execute_input": "2022-06-16T20:35:48.136520Z",
     "iopub.status.busy": "2022-06-16T20:35:48.136177Z",
     "iopub.status.idle": "2022-06-16T20:35:54.427277Z",
     "shell.execute_reply": "2022-06-16T20:35:54.426523Z"
    },
    "papermill": {
     "duration": 10.501362,
     "end_time": "2022-06-16T20:35:54.429224",
     "exception": false,
     "start_time": "2022-06-16T20:35:43.927862",
     "status": "completed"
    },
    "tags": []
   },
   "outputs": [
    {
     "name": "stdout",
     "output_type": "stream",
     "text": [
      "79/79 [==============================] - 47s 596ms/step\n",
      "Confusion Matrix\n",
      "[[145  13 122 136 143 137 132]\n",
      " [ 19   1  20  14  17  22  18]\n",
      " [131  11 126 150 153 131 134]\n",
      " [140  12 141 131 149 128 132]\n",
      " [138  12 129 137 157 103 130]\n",
      " [145  14 124 117 152 126 120]\n",
      " [136  14 150 123 158 126 123]]\n",
      "Classification Report\n",
      "              precision    recall  f1-score   support\n",
      "\n",
      "       Anger       0.17      0.18      0.17       828\n",
      "     Disgust       0.01      0.01      0.01       111\n",
      "        Fear       0.16      0.15      0.15       836\n",
      "       Happy       0.16      0.16      0.16       833\n",
      "     Neutral       0.17      0.19      0.18       806\n",
      "         Sad       0.16      0.16      0.16       798\n",
      "    Surprise       0.16      0.15      0.15       830\n",
      "\n",
      "    accuracy                           0.16      5042\n",
      "   macro avg       0.14      0.14      0.14      5042\n",
      "weighted avg       0.16      0.16      0.16      5042\n",
      "\n"
     ]
    },
    {
     "data": {
      "image/png": "[encoded data removed]",
      "text/plain": [
       "<Figure size 800x800 with 2 Axes>"
      ]
     },
     "metadata": {},
     "output_type": "display_data"
    }
   ],
   "source": [
    "y_pred = fernet.predict(test_set)\n",
    "y_pred = np.argmax(y_pred, axis=1)\n",
    "class_labels = test_set.class_indices\n",
    "class_labels = {v:k for k,v in class_labels.items()}\n",
    "\n",
    "cm_test = confusion_matrix(test_set.classes, y_pred)\n",
    "print('Confusion Matrix')\n",
    "print(cm_test)\n",
    "print('Classification Report')\n",
    "target_names = list(class_labels.values())\n",
    "print(classification_report(test_set.classes, y_pred, target_names=target_names))\n",
    "\n",
    "plt.figure(figsize=(8,8))\n",
    "plt.imshow(cm_test, interpolation='nearest')\n",
    "plt.colorbar()\n",
    "tick_mark = np.arange(len(target_names))\n",
    "_ = plt.xticks(tick_mark, target_names, rotation=90)\n",
    "_ = plt.yticks(tick_mark, target_names)"
   ]
  },
  {
   "cell_type": "markdown",
   "id": "7277e4bb",
   "metadata": {
    "papermill": {
     "duration": 4.46012,
     "end_time": "2022-06-16T20:36:03.265545",
     "exception": false,
     "start_time": "2022-06-16T20:35:58.805425",
     "status": "completed"
    },
    "tags": []
   },
   "source": [
    "# Recommending Music"
   ]
  },
  {
   "cell_type": "code",
   "execution_count": 22,
   "id": "883a7a83",
   "metadata": {
    "execution": {
     "iopub.execute_input": "2022-06-16T20:36:11.878611Z",
     "iopub.status.busy": "2022-06-16T20:36:11.878258Z",
     "iopub.status.idle": "2022-06-16T20:36:11.922819Z",
     "shell.execute_reply": "2022-06-16T20:36:11.922117Z"
    },
    "papermill": {
     "duration": 4.364648,
     "end_time": "2022-06-16T20:36:11.924520",
     "exception": false,
     "start_time": "2022-06-16T20:36:07.559872",
     "status": "completed"
    },
    "tags": []
   },
   "outputs": [
    {
     "data": {
      "text/html": [
       "<div>\n",
       "<style scoped>\n",
       "    .dataframe tbody tr th:only-of-type {\n",
       "        vertical-align: middle;\n",
       "    }\n",
       "\n",
       "    .dataframe tbody tr th {\n",
       "        vertical-align: top;\n",
       "    }\n",
       "\n",
       "    .dataframe thead th {\n",
       "        text-align: right;\n",
       "    }\n",
       "</style>\n",
       "<table border=\"1\" class=\"dataframe\">\n",
       "  <thead>\n",
       "    <tr style=\"text-align: right;\">\n",
       "      <th></th>\n",
       "      <th>name</th>\n",
       "      <th>artist</th>\n",
       "      <th>mood</th>\n",
       "    </tr>\n",
       "  </thead>\n",
       "  <tbody>\n",
       "    <tr>\n",
       "      <th>0</th>\n",
       "      <td>1999</td>\n",
       "      <td>Prince</td>\n",
       "      <td>Happy</td>\n",
       "    </tr>\n",
       "    <tr>\n",
       "      <th>1</th>\n",
       "      <td>23</td>\n",
       "      <td>Blonde Redhead</td>\n",
       "      <td>Sad</td>\n",
       "    </tr>\n",
       "    <tr>\n",
       "      <th>2</th>\n",
       "      <td>9 Crimes</td>\n",
       "      <td>Damien Rice</td>\n",
       "      <td>Sad</td>\n",
       "    </tr>\n",
       "    <tr>\n",
       "      <th>3</th>\n",
       "      <td>99 Luftballons</td>\n",
       "      <td>Nena</td>\n",
       "      <td>Happy</td>\n",
       "    </tr>\n",
       "    <tr>\n",
       "      <th>4</th>\n",
       "      <td>A Boy Brushed Red Living In Black And White</td>\n",
       "      <td>Underoath</td>\n",
       "      <td>Energetic</td>\n",
       "    </tr>\n",
       "  </tbody>\n",
       "</table>\n",
       "</div>"
      ],
      "text/plain": [
       "                                          name          artist       mood\n",
       "0                                         1999          Prince      Happy\n",
       "1                                           23  Blonde Redhead        Sad\n",
       "2                                     9 Crimes     Damien Rice        Sad\n",
       "3                               99 Luftballons            Nena      Happy\n",
       "4  A Boy Brushed Red Living In Black And White       Underoath  Energetic"
      ]
     },
     "execution_count": 22,
     "metadata": {},
     "output_type": "execute_result"
    }
   ],
   "source": [
    "mood_music = pd.read_csv(\"spotify-music-data-to-identify-the-moods/data_moods.csv\")\n",
    "mood_music = mood_music[['name','artist','mood']]\n",
    "mood_music.head()"
   ]
  },
  {
   "cell_type": "code",
   "execution_count": 23,
   "id": "23a86b96",
   "metadata": {
    "execution": {
     "iopub.execute_input": "2022-06-16T20:36:21.245401Z",
     "iopub.status.busy": "2022-06-16T20:36:21.245028Z",
     "iopub.status.idle": "2022-06-16T20:36:21.458970Z",
     "shell.execute_reply": "2022-06-16T20:36:21.458243Z"
    },
    "papermill": {
     "duration": 4.574112,
     "end_time": "2022-06-16T20:36:21.460773",
     "exception": false,
     "start_time": "2022-06-16T20:36:16.886661",
     "status": "completed"
    },
    "tags": []
   },
   "outputs": [
    {
     "data": {
      "image/png": "[encoded data removed]",
      "text/plain": [
       "<Figure size 640x480 with 1 Axes>"
      ]
     },
     "metadata": {},
     "output_type": "display_data"
    }
   ],
   "source": [
    "image = cv2.imread('fer2013 cleaned/test/happy/2_27828_Training.jpg',cv2.IMREAD_GRAYSCALE)\n",
    "\n",
    "plt.imshow(image,cmap='gray')\n",
    "plt.show()"
   ]
  },
  {
   "cell_type": "code",
   "execution_count": 24,
   "id": "d42f49b4",
   "metadata": {
    "execution": {
     "iopub.execute_input": "2022-06-16T20:36:30.177482Z",
     "iopub.status.busy": "2022-06-16T20:36:30.177134Z",
     "iopub.status.idle": "2022-06-16T20:36:30.333274Z",
     "shell.execute_reply": "2022-06-16T20:36:30.332472Z"
    },
    "papermill": {
     "duration": 4.344926,
     "end_time": "2022-06-16T20:36:30.335088",
     "exception": false,
     "start_time": "2022-06-16T20:36:25.990162",
     "status": "completed"
    },
    "tags": []
   },
   "outputs": [
    {
     "name": "stdout",
     "output_type": "stream",
     "text": [
      "1/1 [==============================] - 0s 444ms/step\n"
     ]
    },
    {
     "data": {
      "text/plain": [
       "3"
      ]
     },
     "execution_count": 24,
     "metadata": {},
     "output_type": "execute_result"
    }
   ],
   "source": [
    "image = cv2.resize(image,(48,48))\n",
    "img=np.array(image)\n",
    "img=img.reshape(1,48,48,1)\n",
    "predict_x=fernet.predict(img) \n",
    "result=np.argmax(predict_x,axis=1)\n",
    "result[0]"
   ]
  },
  {
   "cell_type": "code",
   "execution_count": 25,
   "id": "2cbb62eb",
   "metadata": {
    "execution": {
     "iopub.execute_input": "2022-06-16T20:36:39.216751Z",
     "iopub.status.busy": "2022-06-16T20:36:39.216376Z",
     "iopub.status.idle": "2022-06-16T20:36:39.240182Z",
     "shell.execute_reply": "2022-06-16T20:36:39.239445Z"
    },
    "papermill": {
     "duration": 4.580375,
     "end_time": "2022-06-16T20:36:39.241868",
     "exception": false,
     "start_time": "2022-06-16T20:36:34.661493",
     "status": "completed"
    },
    "tags": []
   },
   "outputs": [
    {
     "data": {
      "text/html": [
       "<div>\n",
       "<style scoped>\n",
       "    .dataframe tbody tr th:only-of-type {\n",
       "        vertical-align: middle;\n",
       "    }\n",
       "\n",
       "    .dataframe tbody tr th {\n",
       "        vertical-align: top;\n",
       "    }\n",
       "\n",
       "    .dataframe thead th {\n",
       "        text-align: right;\n",
       "    }\n",
       "</style>\n",
       "<table border=\"1\" class=\"dataframe\">\n",
       "  <thead>\n",
       "    <tr style=\"text-align: right;\">\n",
       "      <th></th>\n",
       "      <th>index</th>\n",
       "      <th>name</th>\n",
       "      <th>artist</th>\n",
       "      <th>mood</th>\n",
       "    </tr>\n",
       "  </thead>\n",
       "  <tbody>\n",
       "    <tr>\n",
       "      <th>0</th>\n",
       "      <td>3</td>\n",
       "      <td>99 Luftballons</td>\n",
       "      <td>Nena</td>\n",
       "      <td>Happy</td>\n",
       "    </tr>\n",
       "    <tr>\n",
       "      <th>1</th>\n",
       "      <td>512</td>\n",
       "      <td>Story Of A Violin</td>\n",
       "      <td>Sandro Silva</td>\n",
       "      <td>Happy</td>\n",
       "    </tr>\n",
       "    <tr>\n",
       "      <th>2</th>\n",
       "      <td>617</td>\n",
       "      <td>War</td>\n",
       "      <td>Kensington</td>\n",
       "      <td>Happy</td>\n",
       "    </tr>\n",
       "    <tr>\n",
       "      <th>3</th>\n",
       "      <td>369</td>\n",
       "      <td>Never Letting Go</td>\n",
       "      <td>Audien</td>\n",
       "      <td>Happy</td>\n",
       "    </tr>\n",
       "    <tr>\n",
       "      <th>4</th>\n",
       "      <td>35</td>\n",
       "      <td>Are You Gonna Be My Girl</td>\n",
       "      <td>Jet</td>\n",
       "      <td>Happy</td>\n",
       "    </tr>\n",
       "  </tbody>\n",
       "</table>\n",
       "</div>"
      ],
      "text/plain": [
       "   index                      name        artist   mood\n",
       "0      3            99 Luftballons          Nena  Happy\n",
       "1    512         Story Of A Violin  Sandro Silva  Happy\n",
       "2    617                       War    Kensington  Happy\n",
       "3    369          Never Letting Go        Audien  Happy\n",
       "4     35  Are You Gonna Be My Girl           Jet  Happy"
      ]
     },
     "metadata": {},
     "output_type": "display_data"
    }
   ],
   "source": [
    "if(result[0]==0 or result[0]==1 or result[0]==2 ):\n",
    "    #for angery,disgust,fear\n",
    "    filter1=mood_music['mood']=='Calm'\n",
    "    f1=mood_music.where(filter1)\n",
    "    f1=f1.dropna()\n",
    "    f2 =f1.sample(n=5)\n",
    "    f2.reset_index(inplace=True)\n",
    "    display(f2)\n",
    "if(result[0]==3 or result[0]==4):\n",
    "    #for happy, neutral\n",
    "    filter1=mood_music['mood']=='Happy'\n",
    "    f1=mood_music.where(filter1)\n",
    "    f1=f1.dropna()\n",
    "    f2 =f1.sample(n=5)\n",
    "    f2.reset_index(inplace=True)\n",
    "    display(f2)\n",
    "if(result[0]==5):\n",
    "       #for Sad\n",
    "    filter1=mood_music['mood']=='Sad'\n",
    "    f1=mood_music.where(filter1)\n",
    "    f1=f1.dropna()\n",
    "    f2 =f1.sample(n=5)\n",
    "    f2.reset_index(inplace=True)\n",
    "    display(f2)\n",
    "if(result[0]==6):\n",
    "     #for surprise\n",
    "    filter1=mood_music['mood']=='Energetic'\n",
    "    f1=mood_music.where(filter1)\n",
    "    f1=f1.dropna()\n",
    "    f2 =f1.sample(n=5)\n",
    "    f2.reset_index(inplace=True)\n",
    "    display(f2)"
   ]
  }
 ],
 "metadata": {
  "kernelspec": {
   "display_name": "Python 3",
   "language": "python",
   "name": "python3"
  },
  "language_info": {
   "codemirror_mode": {
    "name": "ipython",
    "version": 3
   },
   "file_extension": ".py",
   "mimetype": "text/x-python",
   "name": "python",
   "nbconvert_exporter": "python",
   "pygments_lexer": "ipython3",
   "version": "3.8.7"
  },
  "papermill": {
   "default_parameters": {},
   "duration": 10063.662529,
   "end_time": "2022-06-16T20:36:46.630233",
   "environment_variables": {},
   "exception": null,
   "input_path": "__notebook__.ipynb",
   "output_path": "__notebook__.ipynb",
   "parameters": {},
   "start_time": "2022-06-16T17:49:02.967704",
   "version": "2.3.4"
  }
 },
 "nbformat": 4,
 "nbformat_minor": 5
}
